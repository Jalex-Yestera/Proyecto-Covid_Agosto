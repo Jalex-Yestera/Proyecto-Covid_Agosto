{
 "cells": [
  {
   "cell_type": "code",
   "execution_count": 1,
   "metadata": {},
   "outputs": [],
   "source": [
    "import pandas as pd\n",
    "import os, sys\n",
    "from flask import Flask, render_template, redirect, request, jsonify \n",
    "import json"
   ]
  },
  {
   "cell_type": "code",
   "execution_count": 2,
   "metadata": {
    "tags": []
   },
   "outputs": [
    {
     "output_type": "stream",
     "name": "stdout",
     "text": "__main__\n"
    }
   ],
   "source": [
    "if __name__ == \"__main__\":\n",
    "    print(__name__)"
   ]
  },
  {
   "cell_type": "code",
   "execution_count": 3,
   "metadata": {},
   "outputs": [
    {
     "output_type": "error",
     "ename": "SyntaxError",
     "evalue": "invalid syntax (<ipython-input-3-c065f46566f8>, line 1)",
     "traceback": [
      "\u001b[1;36m  File \u001b[1;32m\"<ipython-input-3-c065f46566f8>\"\u001b[1;36m, line \u001b[1;32m1\u001b[0m\n\u001b[1;33m    Valores de __name__:\u001b[0m\n\u001b[1;37m            ^\u001b[0m\n\u001b[1;31mSyntaxError\u001b[0m\u001b[1;31m:\u001b[0m invalid syntax\n"
     ]
    }
   ],
   "source": [
    "Valores de __name__:\n",
    "\n",
    "1- \"__main__\" --> Si se ejecuta desde el mismo fichero\n",
    "\n",
    "2- \"el nombre del fichero\" --> Si esa variable se utiliza en otro fichero (que es el fichero que se importa)"
   ]
  },
  {
   "cell_type": "code",
   "execution_count": 4,
   "metadata": {},
   "outputs": [
    {
     "output_type": "execute_result",
     "data": {
      "text/plain": "'C:\\\\Users\\\\yeste\\\\Documents\\\\Proyecto_Covid_Agosto\\\\src\\\\settings.json'"
     },
     "metadata": {},
     "execution_count": 4
    }
   ],
   "source": [
    "s = \"C:\\\\Users\\\\yeste\\\\Documents\\\\Proyecto_Covid_Agosto\\\\src\\\\\"\n",
    "import os, json\n",
    "settings = os.path.dirname(s) + \"\\\\settings.json\"\n",
    "settings"
   ]
  },
  {
   "cell_type": "code",
   "execution_count": 5,
   "metadata": {},
   "outputs": [
    {
     "output_type": "execute_result",
     "data": {
      "text/plain": "{'server_running': True, 'port': 6060, 'debug': True, 'host': 'localhost'}"
     },
     "metadata": {},
     "execution_count": 5
    }
   ],
   "source": [
    "with open(settings, \"r\") as json_file_readed:\n",
    "    json_readed = json.load(json_file_readed)\n",
    "json_readed"
   ]
  },
  {
   "cell_type": "code",
   "execution_count": 6,
   "metadata": {
    "tags": []
   },
   "outputs": [
    {
     "output_type": "stream",
     "name": "stdout",
     "text": "STARTING PROCESS\n"
    },
    {
     "output_type": "error",
     "ename": "NameError",
     "evalue": "name '__file__' is not defined",
     "traceback": [
      "\u001b[1;31m---------------------------------------------------------------------------\u001b[0m",
      "\u001b[1;31mNameError\u001b[0m                                 Traceback (most recent call last)",
      "\u001b[1;32m<ipython-input-6-7a935a660275>\u001b[0m in \u001b[0;36m<module>\u001b[1;34m\u001b[0m\n\u001b[0;32m     64\u001b[0m \u001b[1;33m\u001b[0m\u001b[0m\n\u001b[0;32m     65\u001b[0m \u001b[1;32mif\u001b[0m \u001b[0m__name__\u001b[0m \u001b[1;33m==\u001b[0m \u001b[1;34m\"__main__\"\u001b[0m\u001b[1;33m:\u001b[0m\u001b[1;33m\u001b[0m\u001b[1;33m\u001b[0m\u001b[0m\n\u001b[1;32m---> 66\u001b[1;33m     \u001b[0mmain\u001b[0m\u001b[1;33m(\u001b[0m\u001b[1;33m)\u001b[0m\u001b[1;33m\u001b[0m\u001b[1;33m\u001b[0m\u001b[0m\n\u001b[0m",
      "\u001b[1;32m<ipython-input-6-7a935a660275>\u001b[0m in \u001b[0;36mmain\u001b[1;34m()\u001b[0m\n\u001b[0;32m     43\u001b[0m \u001b[1;33m\u001b[0m\u001b[0m\n\u001b[0;32m     44\u001b[0m     \u001b[0mprint\u001b[0m\u001b[1;33m(\u001b[0m\u001b[1;34m\"STARTING PROCESS\"\u001b[0m\u001b[1;33m)\u001b[0m\u001b[1;33m\u001b[0m\u001b[1;33m\u001b[0m\u001b[0m\n\u001b[1;32m---> 45\u001b[1;33m     \u001b[0mprint\u001b[0m\u001b[1;33m(\u001b[0m\u001b[0mos\u001b[0m\u001b[1;33m.\u001b[0m\u001b[0mpath\u001b[0m\u001b[1;33m.\u001b[0m\u001b[0mdirname\u001b[0m\u001b[1;33m(\u001b[0m\u001b[0m__file__\u001b[0m\u001b[1;33m)\u001b[0m\u001b[1;33m)\u001b[0m\u001b[1;33m\u001b[0m\u001b[1;33m\u001b[0m\u001b[0m\n\u001b[0m\u001b[0;32m     46\u001b[0m \u001b[1;33m\u001b[0m\u001b[0m\n\u001b[0;32m     47\u001b[0m     \u001b[1;31m# Get the settings fullpath\u001b[0m\u001b[1;33m\u001b[0m\u001b[1;33m\u001b[0m\u001b[1;33m\u001b[0m\u001b[0m\n",
      "\u001b[1;31mNameError\u001b[0m: name '__file__' is not defined"
     ]
    }
   ],
   "source": [
    "app = Flask(__name__)  # init\n",
    "\n",
    "@app.route(\"/\")  # Default path\n",
    "def default():\n",
    "    # Redirect\n",
    "    #return redirect(\"http://aiconscience.ddns.net\", code=302)\n",
    "    #return str(request.args)\n",
    "    return Print('Api working')\n",
    "\n",
    "# ----------------------\n",
    "# $$$$$$$ FLASK GET $$$$$$$$\n",
    "# ----------------------\n",
    "\n",
    "@app.route('/get', methods=['GET'])\n",
    "def get():\n",
    "    return '''<h1>Distant Reading Archive</h1>\n",
    "<p>A prototype API for distant reading of science fiction novels.</p>'''\n",
    "\n",
    "@app.route('/give_me_id', methods=['GET'])\n",
    "def give_id():\n",
    "    x = request.args['id']\n",
    "    return request.args\n",
    "\n",
    "# A route to return all of the available entries in our catalog.\n",
    "@app.route('/api/test/', methods=['GET'])\n",
    "def api_all():\n",
    "    restaurant_id = None\n",
    "    if 'id' in request.args:\n",
    "        restaurant_id = int(request.args['id'])\n",
    "    \n",
    "    if restaurant_id == 1:\n",
    "        return \"{'json': true}\"\n",
    "    elif restaurant_id == 99:\n",
    "        return jsonify(col_1=[3, 2, 1, 0], col_2=['a', 'b', 'c', 'd'])\n",
    "    else:\n",
    "        return \"This is a message of error\" + \"<br>\" + \"<br>\" + str(request.args)\n",
    "\n",
    "# ----------------------\n",
    "# $$$$$$$ MAIN $$$$$$$$\n",
    "# ----------------------\n",
    "\n",
    "def main():\n",
    "\n",
    "    print(\"STARTING PROCESS\")\n",
    "    print(os.path.dirname(__file__))\n",
    "    \n",
    "    # Get the settings fullpath\n",
    "    settings_file = os.path.dirname(__file__) + \"\\\\settings.json\"\n",
    "    # Load json from file \n",
    "    with open(settings_file, \"r\") as json_file_readed:\n",
    "        json_readed = json.load(json_file_readed)\n",
    "    \n",
    "    # Load variables from jsons\n",
    "    SERVER_RUNNING = json_readed[\"server_running\"]\n",
    "    \n",
    "    if SERVER_RUNNING:\n",
    "        DEBUG = json_readed[\"debug\"]\n",
    "        HOST = json_readed[\"host\"]\n",
    "        PORT_NUM = json_readed[\"port\"]\n",
    "        app.run(debug=DEBUG, host=HOST, port=PORT_NUM)\n",
    "    else:\n",
    "        print(\"Server settings.json doesn't allow to start server. \" + \n",
    "              \"Please, allow it to run it.\")\n",
    "            \n",
    "if __name__ == \"__main__\":\n",
    "    main()"
   ]
  },
  {
   "cell_type": "code",
   "execution_count": null,
   "metadata": {},
   "outputs": [],
   "source": []
  }
 ],
 "metadata": {
  "language_info": {
   "codemirror_mode": {
    "name": "ipython",
    "version": 3
   },
   "file_extension": ".py",
   "mimetype": "text/x-python",
   "name": "python",
   "nbconvert_exporter": "python",
   "pygments_lexer": "ipython3",
   "version": "3.6.4-final"
  },
  "orig_nbformat": 2,
  "kernelspec": {
   "name": "python_defaultSpec_1596031308607",
   "display_name": "Python 3.8.3 64-bit"
  }
 },
 "nbformat": 4,
 "nbformat_minor": 2
}